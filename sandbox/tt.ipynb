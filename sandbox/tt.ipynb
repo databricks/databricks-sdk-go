{
 "cells": [
  {
   "cell_type": "code",
   "execution_count": 10,
   "metadata": {},
   "outputs": [],
   "source": [
    "import json\n",
    "\n",
    "spec = json.load(open('/tmp/processed-databricks-accounts-aws.json'))"
   ]
  },
  {
   "cell_type": "code",
   "execution_count": 11,
   "metadata": {},
   "outputs": [
    {
     "name": "stdout",
     "output_type": "stream",
     "text": [
      "/api/2.0/accounts/{account_id}/credentials\n",
      "/api/2.0/accounts/{account_id}/credentials/{credentials_id}\n",
      "/api/2.0/accounts/{account_id}/customer-managed-key-history\n",
      "/api/2.0/accounts/{account_id}/customer-managed-keys\n",
      "/api/2.0/accounts/{account_id}/customer-managed-keys/{customer_managed_key_id}\n",
      "/api/2.0/accounts/{account_id}/log-delivery\n",
      "/api/2.0/accounts/{account_id}/log-delivery/{log_delivery_configuration_id}\n",
      "/api/2.0/accounts/{account_id}/networks\n",
      "/api/2.0/accounts/{account_id}/networks/{network_id}\n",
      "/api/2.0/accounts/{account_id}/private-access-settings\n",
      "/api/2.0/accounts/{account_id}/private-access-settings/{private_access_settings_id}\n",
      "/api/2.0/accounts/{account_id}/storage-configurations\n",
      "/api/2.0/accounts/{account_id}/storage-configurations/{storage_configuration_id}\n",
      "/api/2.0/accounts/{account_id}/usage/download\n",
      "/api/2.0/accounts/{account_id}/vpc-endpoints\n",
      "/api/2.0/accounts/{account_id}/vpc-endpoints/{vpc_endpoint_id}\n",
      "/api/2.0/accounts/{account_id}/workspaces\n",
      "/api/2.0/accounts/{account_id}/workspaces/{workspace_id}\n",
      "/api/2.0/accounts/{account_id}/workspaces/{workspace_id}/customer-managed-key-history\n",
      "/api/2.0/preview/accounts/{account_id}/workspaces/{workspace_id}/permissionassignments\n",
      "/api/2.0/preview/accounts/{account_id}/workspaces/{workspace_id}/permissionassignments/permissions\n",
      "/api/2.0/preview/accounts/{account_id}/workspaces/{workspace_id}/permissionassignments/principals/{principal_id}\n"
     ]
    }
   ],
   "source": [
    "for k in spec['paths'].keys():\n",
    "    print(k)"
   ]
  },
  {
   "cell_type": "code",
   "execution_count": null,
   "metadata": {},
   "outputs": [],
   "source": []
  }
 ],
 "metadata": {
  "kernelspec": {
   "display_name": "Python 3.9.13 64-bit",
   "language": "python",
   "name": "python3"
  },
  "language_info": {
   "codemirror_mode": {
    "name": "ipython",
    "version": 3
   },
   "file_extension": ".py",
   "mimetype": "text/x-python",
   "name": "python",
   "nbconvert_exporter": "python",
   "pygments_lexer": "ipython3",
   "version": "3.9.13"
  },
  "orig_nbformat": 4,
  "vscode": {
   "interpreter": {
    "hash": "397704579725e15f5c7cb49fe5f0341eb7531c82d19f2c29d197e8b64ab5776b"
   }
  }
 },
 "nbformat": 4,
 "nbformat_minor": 2
}
